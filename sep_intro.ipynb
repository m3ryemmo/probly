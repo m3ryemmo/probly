{
 "cells": [
  {
   "cell_type": "markdown",
   "id": "e4f1292f",
   "metadata": {},
   "source": [
    "# Intro-Aufgabe für das SEP Unsicherheit im Maschinellen Lernen WS 2025/26\n",
    "\n",
    "Mit diesem Notebook sollen Sie sich mit der Arbeit an probly vertraut machen.\n",
    "Bevor Sie loslegen können, führen Sie bitte die folgenden Schritte durch:\n",
    "\n",
    "1. Klonen Sie das `probly` Repo: `git clone git@github.com:pwhofman/probly.git`\n",
    "2. Installieren Sie das Tool uv ([Guide](https://docs.astral.sh/uv/getting-started/installation/)).\n",
    "3. Navigieren Sie in Ihr lokales probly-Repo und installieren Sie die Dependencies: `uv install` \n",
    "4. Kopieren Sie dieses Notebook in Ihr lokales probly-Repo und führen Sie dort anschließend die folgende Code-Zelle aus:"
   ]
  },
  {
   "cell_type": "code",
   "execution_count": 1,
   "id": "d6436f33",
   "metadata": {},
   "outputs": [
    {
     "data": {
      "text/plain": [
       "'Generic functional datastructure traverser utilities.'"
      ]
     },
     "execution_count": 1,
     "metadata": {},
     "output_type": "execute_result"
    }
   ],
   "source": [
    "import pytraverse as t\n",
    "\n",
    "t.__doc__"
   ]
  },
  {
   "cell_type": "markdown",
   "id": "f99da5a8",
   "metadata": {},
   "source": [
    "Wenn Sie die Ausgabe `Generic functional datastructure traverser utilities.` erhalten haben, haben Sie das Repository korrekt aufgesetzt.\n",
    "\n",
    "## Was ist PyTraverse?\n",
    "\n",
    "PyTraverse bildet den Kern der Modelltransformationsfeatures von probly.\n",
    "In diesem Notebook sollen Sie sich daher damit vertraut machen.\n",
    "Lesen Sie sich hierfür zuerst das [PyTraverse-Tutorial](https://github.com/pwhofman/probly/blob/main/notebooks/examples/pytraverse_tutorial.ipynb) in `notebooks/examples/pytraverse_tutorial.ipynb` an.\n",
    "\n",
    "Nachdem Sie das Tutorial-Notebook gelesen (und verstanden) haben, können Sie sich an Ihren ersten ersten eigenen Traverser wagen.\n",
    "\n",
    "## Der Verdopplungs-Traverser\n",
    "\n",
    "Um Ihr Verständnis auf die Probe zu stellen, sollen Sie nun einen *Verdopplungs-Traverser* implementieren.\n",
    "Dieser Traverser soll rekrusiv durch beliebig geschachtelte `list`, `tuple`, `set` und `dict` Datenstrukturen traversieren und dabei jeweils folgende Änderungen an den besuchtne Datenstrukturen durchführen:\n",
    "\n",
    "1. `str`: Strings sollen mit sich selbt konkateniert werden, d.h., aus \"Wau\" wird \"WauWau\".\n",
    "2. `int` und `float`: Gleitkomma- und Ganzzahlen sollen mit `2` multipliziert werden.\n",
    "3. `list` und `tuple`: Auch Listen und Tupel sollen verdoppelt werden, d.h., aus `[\"a\", 3]` wird `[\"aa\", 6, \"aa\", 6]` (für Tupel analog).\n",
    "4. `set` und `dict`: Mengen und Dicts lassen sich nicht sinnvoll verdoppeln; hier soll die Verdopplung also einfach nur auf alle Elemente angewandt werden (bei `dict`s sollen Key **und** Value verdoppelt werden), d.h. aus `{\"x\": 1, 3: [\"a\"]}` wird `{\"xx\": 2, 6: [\"aa\",\"aa\"]}`.\n",
    "\n",
    "Alle anderen Datentypen sollen unverändert bleiben.\n",
    "\n",
    "Laden Sie dieses Notebook mit dem implementierten Traverser auf Moodle hoch. **Viel Erfolg!**"
   ]
  },
  {
   "cell_type": "code",
   "execution_count": 4,
   "id": "b131038a",
   "metadata": {},
   "outputs": [],
   "source": [
    "@t.singledispatch_traverser\n",
    "def my_traverser(obj: object) -> object:\n",
    "    return obj\n",
    "\n",
    "\n",
    "@my_traverser.register(bool)\n",
    "def _(b, traverse):\n",
    "    return b\n",
    "\n",
    "\n",
    "@my_traverser.register(str)\n",
    "def _(obj, traverse):\n",
    "    return obj + obj\n",
    "\n",
    "\n",
    "@my_traverser.register(int)\n",
    "def _(x, traverse):\n",
    "    return x * 2\n",
    "\n",
    "\n",
    "@my_traverser.register(float)\n",
    "def _(i, traverse):\n",
    "    return i * 2\n",
    "\n",
    "\n",
    "@my_traverser.register(list)\n",
    "def _(lst, traverse):\n",
    "    traversed = [traverse(item) for item in lst]\n",
    "    return traversed + traversed\n",
    "\n",
    "\n",
    "@my_traverser.register(tuple)\n",
    "def _(tpl, traverse):\n",
    "    traversed = tuple(traverse(item) for item in tpl)\n",
    "    return traversed + traversed\n",
    "\n",
    "\n",
    "@my_traverser.register(set)\n",
    "def _(s, traverse):\n",
    "    return {traverse(item) for item in s}\n",
    "\n",
    "\n",
    "@my_traverser.register(dict)\n",
    "def _(d, traverse):\n",
    "    return {traverse(k): traverse(v) for k, v in d.items()}\n",
    "\n",
    "\n",
    "@my_traverser.register(type(None))\n",
    "def _(n, traverse):\n",
    "    return None"
   ]
  },
  {
   "cell_type": "markdown",
   "id": "4bf4109c",
   "metadata": {},
   "source": [
    "Um Ihren Traverser zu testen, können Sie die folgenden Tests ausführen. Wenn Ihr Traverser korrekt funktioniert, sollten die Tests keinen Fehler werfen."
   ]
  },
  {
   "cell_type": "code",
   "execution_count": 5,
   "id": "8fe8552b",
   "metadata": {},
   "outputs": [],
   "source": [
    "test_data = [\n",
    "    (\"Wau\", \"WauWau\"),\n",
    "    (4, 8),\n",
    "    (-3.5, -7.0),\n",
    "    ([\"a\", 3], [\"aa\", 6, \"aa\", 6]),\n",
    "    ({\"X\": 1, 3: [\"a\"]}, {\"XX\": 2, 6: [\"aa\", \"aa\"]}),\n",
    "    ((False, False), (False, False, False, False)),\n",
    "    (True, True),\n",
    "    (None, None),\n",
    "]\n",
    "\n",
    "for data, expected in test_data:\n",
    "    result = t.traverse(data, my_traverser)\n",
    "    assert result == expected, f\"Der Traverser hat nicht wie erwartet funktioniert: {data=}, {result=}, {expected=}\""
   ]
  }
 ],
 "metadata": {
  "kernelspec": {
   "display_name": "probly",
   "language": "python",
   "name": "python3"
  },
  "language_info": {
   "codemirror_mode": {
    "name": "ipython",
    "version": 3
   },
   "file_extension": ".py",
   "mimetype": "text/x-python",
   "name": "python",
   "nbconvert_exporter": "python",
   "pygments_lexer": "ipython3",
   "version": "3.13.8"
  }
 },
 "nbformat": 4,
 "nbformat_minor": 5
}
